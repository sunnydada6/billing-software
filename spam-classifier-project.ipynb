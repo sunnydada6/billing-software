{
 "cells": [
  {
   "cell_type": "code",
   "execution_count": 1,
   "id": "29b4aa24",
   "metadata": {},
   "outputs": [
    {
     "name": "stdout",
     "output_type": "stream",
     "text": [
      "Overwriting spam.py\n"
     ]
    }
   ],
   "source": [
    "%%writefile spam.py \n",
    "import streamlit as st\n",
    "import pickle  \n",
    "from sklearn.feature_extraction.text import CountVectorizer\n",
    "import numpy as np \n",
    "\n",
    "from win32com.client import Dispatch\n",
    "\n",
    "def speak(text):\n",
    "\tspeak=Dispatch((\"SAPI.SpVoice\"))\n",
    "\tspeak.Speak(text)\n",
    "\n",
    "\n",
    "model = pickle.load(open('C:\\\\Users\\\\Document\\\\Downloads\\\\spam.pkl','rb'))\n",
    "cv=pickle.load(open('C:\\\\Users\\\\Document\\\\Downloads\\\\vectorizer.pkl','rb'))\n",
    "\n",
    "\n",
    "def main():\n",
    "\tst.title(\"Email Spam Classification Application\")\n",
    "\tst.write(\"Build with Streamlit & Python\")\n",
    "\tactivites=[\"Classification\",\"About\"]\n",
    "\tchoices=st.sidebar.selectbox(\"Select Activities\",activites)\n",
    "\tif choices==\"Classification\":\n",
    "\t\tst.subheader(\"Classification\")\n",
    "\t\tmsg=st.text_input(\"Enter a text\")\n",
    "\t\tif st.button(\"Process\"):\n",
    "\t\t\tprint(msg)\n",
    "\t\t\tprint(type(msg))\n",
    "\t\t\tdata=[msg]\n",
    "\t\t\tprint(data)\n",
    "\t\t\tvec=cv.transform(data).toarray()\n",
    "\t\t\tresult=model.predict(vec)\n",
    "\t\t\tif result[0]==0:\n",
    "\t\t\t\tst.success(\"This is Not A Spam Email\")\n",
    "\t\t\t\tspeak(\"This is Not A Spam Email\")\n",
    "\t\t\telse:\n",
    "\t\t\t\tst.error(\"This is A Spam Email\")\n",
    "\t\t\t\tspeak(\"This is A Spam Email\")\n",
    "main() \n"
   ]
  },
  {
   "cell_type": "code",
   "execution_count": null,
   "id": "b3254bcb",
   "metadata": {},
   "outputs": [],
   "source": [
    "!streamlit run spam.py  "
   ]
  }
 ],
 "metadata": {
  "kernelspec": {
   "display_name": "Python 3",
   "language": "python",
   "name": "python3"
  },
  "language_info": {
   "codemirror_mode": {
    "name": "ipython",
    "version": 3
   },
   "file_extension": ".py",
   "mimetype": "text/x-python",
   "name": "python",
   "nbconvert_exporter": "python",
   "pygments_lexer": "ipython3",
   "version": "3.8.8"
  }
 },
 "nbformat": 4,
 "nbformat_minor": 5
}
